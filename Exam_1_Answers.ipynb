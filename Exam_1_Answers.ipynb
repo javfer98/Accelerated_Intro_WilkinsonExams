{
 "cells": [
  {
   "cell_type": "markdown",
   "metadata": {},
   "source": [
    "## Problem 2"
   ]
  },
  {
   "cell_type": "code",
   "execution_count": 3,
   "metadata": {
    "scrolled": true
   },
   "outputs": [
    {
     "name": "stdout",
     "output_type": "stream",
     "text": [
      "total 2.4M\n",
      "-rw-rw-r-- 1 osboxes osboxes 1.2M Sep  3 11:02  conv.txt\n",
      "-rw-rw-r-- 1 osboxes osboxes  147 Sep  3 11:02  DISCLAIMER\n",
      "-rw-rw-r-- 1 osboxes osboxes 1.8K Sep  5 09:26  Exam_1_Answers.ipynb\n",
      "-rw-rw-r-- 1 osboxes osboxes 5.5K Sep  3 11:02 'Exam Week 1.ipynb'\n",
      "-rw-rw-r-- 1 osboxes osboxes 3.9K Sep  3 11:02 'Exam Week 2.ipynb'\n",
      "-rw-rw-r-- 1 osboxes osboxes 4.2K Sep  3 11:02  Germplasm.tsv\n",
      "-rw-rw-r-- 1 osboxes osboxes  141 Sep  3 11:02  how_to_convert.txt\n",
      "-rw-rw-r-- 1 osboxes osboxes 1.1K Sep  3 11:02  LICENSE\n",
      "-rw-rw-r-- 1 osboxes osboxes  637 Sep  3 11:02  LocusGene.tsv\n",
      "-rw-rw-r-- 1 osboxes osboxes 1.2M Sep  3 11:02  Locus_Germplasm_Phenotype_20130122.txt\n",
      "-rw-rw-r-- 1 osboxes osboxes  743 Sep  3 11:02  README.md\n"
     ]
    }
   ],
   "source": [
    "ls -lh #-lh is used to generate the long listing format with human readable size"
   ]
  },
  {
   "cell_type": "markdown",
   "metadata": {},
   "source": [
    "## Ownership\n",
    "\n",
    "The permissions of each file are shown within the first 10 characters of each entry, in this case -rw-rw-r--. Their meaning is explained in the following table:\n",
    "\n",
    "\n",
    "\n",
    "  <center>Position </center> |  <center> Character </center>  |  <center> Meaning  </center> \n",
    " --- | --- | --- \n",
    "  <center> 1 </center>  | <center> - </center> |   <center>Not a directory</center> \n",
    "  <center> 2 </center>  |  <center>r </center> |   <center>user has permission to read </center> \n",
    "  <center> 3  </center> |  <center>w </center> |   <center>user has permission to write </center> \n",
    "  <center> 4  </center> |  <center>- </center> |  <center> user does not have permission to execute </center> \n",
    " <center>  5  </center> |  <center>r </center> |   <center>group has permission to read </center> \n",
    "  <center> 6 </center>  | <center> w </center> |   <center>group has permission to write </center> \n",
    "  <center> 7  </center> |  <center>- </center> |   <center>group does not have permission to execute </center> \n",
    "  <center> 8  </center> |  <center>r </center> |  <center> everybody has permission to read</center> \n",
    "  <center> 9  </center> |  <center>- </center> |   <center>not everybody has permission to write </center> \n",
    "  <center> 10  </center> |  <center>- </center> |   <center>not everybody has permission to execute</center> "
   ]
  },
  {
   "cell_type": "markdown",
   "metadata": {},
   "source": [
    "## Problem 3"
   ]
  },
  {
   "cell_type": "code",
   "execution_count": 6,
   "metadata": {},
   "outputs": [
    {
     "name": "stdout",
     "output_type": "stream",
     "text": [
      "Locus_name)\tGermplasm_name\tphenotype\tpubmed_id\n"
     ]
    }
   ],
   "source": [
    "head -1 Locus_Germplasm_Phenotype_20130122.txt"
   ]
  },
  {
   "cell_type": "markdown",
   "metadata": {},
   "source": [
    "The \"head\" command is used to show the first 10 lines of a file. \n",
    "\n",
    "\"-1\" means that I only want the first line to be shown. \n",
    "\n",
    "\"Locus_Germplasm_Phenotype_20130122.txt\" is the name of the file whose initial line will be shown."
   ]
  },
  {
   "cell_type": "markdown",
   "metadata": {},
   "source": [
    "## Problem 4"
   ]
  },
  {
   "cell_type": "code",
   "execution_count": null,
   "metadata": {},
   "outputs": [],
   "source": [
    "wc -l Locus_Germplasm_Phenotype_20130122.txt"
   ]
  },
  {
   "cell_type": "markdown",
   "metadata": {},
   "source": [
    "\"wc -l filename\" is used to count the number of lines of a file."
   ]
  },
  {
   "cell_type": "markdown",
   "metadata": {},
   "source": [
    "## Problem 5"
   ]
  },
  {
   "cell_type": "code",
   "execution_count": null,
   "metadata": {},
   "outputs": [],
   "source": [
    "tail -n+2 Locus_Germplasm_Phenotype_20130122.txt > Data_only.csv"
   ]
  },
  {
   "cell_type": "markdown",
   "metadata": {},
   "source": [
    "\"tail\" is used to show the last lines of a file.\n",
    "\n",
    "\"-n+2\" indicates that every line after the second one (included) must be shown.\n",
    "\n",
    "\"Locus_Germplasm_Phenotype_20130122.txt\" is the name of the file whose lines will be shown.\n",
    "\n",
    "\"> Data_only.csv\" indicates that the output will be sent to the file Data_only.csv"
   ]
  },
  {
   "cell_type": "code",
   "execution_count": null,
   "metadata": {},
   "outputs": [],
   "source": [
    "wc -l Data_only.csv"
   ]
  }
 ],
 "metadata": {
  "kernelspec": {
   "display_name": "Bash",
   "language": "bash",
   "name": "bash"
  },
  "language_info": {
   "codemirror_mode": "shell",
   "file_extension": ".sh",
   "mimetype": "text/x-sh",
   "name": "bash"
  }
 },
 "nbformat": 4,
 "nbformat_minor": 2
}
