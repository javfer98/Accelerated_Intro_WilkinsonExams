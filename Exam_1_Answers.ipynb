{
 "cells": [
  {
   "cell_type": "markdown",
   "metadata": {},
   "source": [
    "## Problem 2"
   ]
  },
  {
   "cell_type": "code",
   "execution_count": null,
   "metadata": {
    "scrolled": true
   },
   "outputs": [],
   "source": [
    "ls -lh #-lh is used to generate the long listing format with human readable size"
   ]
  },
  {
   "cell_type": "markdown",
   "metadata": {},
   "source": [
    "## Ownership\n",
    "\n",
    "The permissions of each file are shown within the first 10 characters of each entry, in this case -rw-rw-r--. Their meaning is explained in the following table:\n",
    "\n",
    "\n",
    "\n",
    "  <center>Position </center> |  <center> Character </center>  |  <center> Meaning  </center> \n",
    " --- | --- | --- \n",
    "  <center> 1 </center>  | <center> - </center> |   <center>Not a directory</center> \n",
    "  <center> 2 </center>  |  <center>r </center> |   <center>user has permission to read </center> \n",
    "  <center> 3  </center> |  <center>w </center> |   <center>user has permission to write </center> \n",
    "  <center> 4  </center> |  <center>- </center> |  <center> user does not have permission to execute </center> \n",
    " <center>  5  </center> |  <center>r </center> |   <center>group has permission to read </center> \n",
    "  <center> 6 </center>  | <center> w </center> |   <center>group has permission to write </center> \n",
    "  <center> 7  </center> |  <center>- </center> |   <center>group does not have permission to execute </center> \n",
    "  <center> 8  </center> |  <center>r </center> |  <center> everybody has permission to read</center> \n",
    "  <center> 9  </center> |  <center>- </center> |   <center>not everybody has permission to write </center> \n",
    "  <center> 10  </center> |  <center>- </center> |   <center>not everybody has permission to execute</center> "
   ]
  },
  {
   "cell_type": "markdown",
   "metadata": {},
   "source": [
    "## Problem 3"
   ]
  },
  {
   "cell_type": "code",
   "execution_count": null,
   "metadata": {},
   "outputs": [],
   "source": [
    "head -1 Locus_Germplasm_Phenotype_20130122.txt"
   ]
  },
  {
   "cell_type": "markdown",
   "metadata": {},
   "source": [
    "The \"head\" command is used to show the first 10 lines of a file. \n",
    "\n",
    "\"-1\" means that I only want the first line to be shown. \n",
    "\n",
    "\"Locus_Germplasm_Phenotype_20130122.txt\" is the name of the file whose initial line will be shown."
   ]
  },
  {
   "cell_type": "markdown",
   "metadata": {},
   "source": [
    "## Problem 4"
   ]
  },
  {
   "cell_type": "code",
   "execution_count": null,
   "metadata": {},
   "outputs": [],
   "source": [
    "wc -l Locus_Germplasm_Phenotype_20130122.txt"
   ]
  },
  {
   "cell_type": "markdown",
   "metadata": {},
   "source": [
    "\"wc -l filename\" is used to count the number of lines of a file."
   ]
  },
  {
   "cell_type": "markdown",
   "metadata": {},
   "source": [
    "## Problem 5"
   ]
  },
  {
   "cell_type": "code",
   "execution_count": null,
   "metadata": {},
   "outputs": [],
   "source": [
    "tail -n+2 Locus_Germplasm_Phenotype_20130122.txt > Data_only.csv"
   ]
  },
  {
   "cell_type": "markdown",
   "metadata": {},
   "source": [
    "\"tail\" is used to show the last lines of a file.\n",
    "\n",
    "\"-n+2\" indicates that every line after the second one (included) must be shown.\n",
    "\n",
    "\"Locus_Germplasm_Phenotype_20130122.txt\" is the name of the file whose lines will be shown.\n",
    "\n",
    "\"> Data_only.csv\" indicates that the output will be sent to the file Data_only.csv"
   ]
  },
  {
   "cell_type": "code",
   "execution_count": null,
   "metadata": {},
   "outputs": [],
   "source": [
    "wc -l Data_only.csv"
   ]
  },
  {
   "cell_type": "markdown",
   "metadata": {},
   "source": [
    "The expected number of lines is 7215, one fewer than the number of lines of the original file. \n",
    "\n",
    "The command \"wc -l Data_only.csv\" shows that there are indeed 7215 lines."
   ]
  },
  {
   "cell_type": "markdown",
   "metadata": {},
   "source": [
    "## Problem 6\n",
    "\n",
    "For this problem I have collaborated with Ismael Sánchez Pareja and Ana Mariya Anhel Valdes"
   ]
  },
  {
   "cell_type": "code",
   "execution_count": null,
   "metadata": {
    "scrolled": true
   },
   "outputs": [],
   "source": [
    "grep -E -ia 'root[[:punct:]]?\\s' Locus_Germplasm_Phenotype_20130122.txt"
   ]
  },
  {
   "cell_type": "markdown",
   "metadata": {},
   "source": [
    "Initially I used the code shown above:\n",
    "\n",
    "\"grep\" is used to look for a certain set of characters in a file.\n",
    "\n",
    "\"-E\" allows the use of extended regular expressions\n",
    "\n",
    "\"-ia\" means insensitive to case and treat any binary file as a text file. \n",
    "\n",
    "'root[[:punct:]]?\\s' is the set of characters we are looking for. It stands for \"root\"  followed by an optional punctuation character and a space. I could have just used 'root' as a query, but it would also find derivatives of the word \"root\" (such as \"roots\").\n",
    "\n",
    "\n",
    "However, \"root\" can appear as part of the germplasm name, although I think it is unlikely. As we only want to find \"root\" inside the phenotype description, I used the following code to make sure that \"root\" is only searched for in the phenotype description:\n"
   ]
  },
  {
   "cell_type": "code",
   "execution_count": null,
   "metadata": {},
   "outputs": [],
   "source": [
    "grep -P -ia '^.+\\t.+\\t.+?root[[:punct:]]?\\s' Locus_Germplasm_Phenotype_20130122.txt"
   ]
  },
  {
   "cell_type": "markdown",
   "metadata": {},
   "source": [
    "\"-P\" means that the regular expression will be interpreted as defined by Perl. This is needed to be able to use \"\\t\" to look for a tab character.\n",
    "\n",
    "'^.+\\t.+\\t.+?root[[:punct:]]?\\s' Has the following meaning:\n",
    "\n",
    "^ --> start at the begining of the line.\n",
    "\n",
    ".+ --> anything several times (it will match the locus name).\n",
    "\n",
    "\\t --> tab character (between the locus name and the germplasm name).\n",
    "\n",
    ".+ --> anything several times (it will match the germplasm name).\n",
    "\n",
    "\\t --> tab character (between the germplasm name and the phenotype).\n",
    "\n",
    ".+? --> optionally, anything several times (the phenotype description before the word \"root\". It is optional because \"root\" can be the first word).\n",
    "\n",
    "root[[:punct:]]?\\s -->  \"root\" optionally followed by a punctuation character and a space."
   ]
  },
  {
   "cell_type": "markdown",
   "metadata": {},
   "source": [
    "## Problem 7"
   ]
  },
  {
   "cell_type": "code",
   "execution_count": null,
   "metadata": {},
   "outputs": [],
   "source": [
    "grep -P -ia '^.+\\t.+\\t.+?root[[:punct:]]?\\s' Locus_Germplasm_Phenotype_20130122.txt | grep -E -ioa '^at[0-9]g[0-9]+' > Root-associated-Loci.txt\n",
    "cat Root-associated-Loci.txt"
   ]
  },
  {
   "cell_type": "markdown",
   "metadata": {},
   "source": [
    "The code before the pipe (|) was explained in Problem 6.\n",
    "\n",
    "The pipe allows to use the output of the first part of the code as the input of the second half.\n",
    "\n",
    "The second half of the code uses a grep to search for the AGI Locus Code\n",
    "\n",
    "\"-E\" allows the use of extended regular expressions.\n",
    "\n",
    "\"-ioa\" means insensitive to case, print only the match and treat any binary file as a text file. \n",
    "\n",
    "'^at[0-9]g[0-9]+' describes the structure of the AGI Locus Code:\n",
    "\n",
    "^ --> start at the begining of the line.\n",
    "\n",
    "at --> characters \"at\" (they can also be in capital letters due to the aforementioned use of -i).\n",
    "\n",
    "[0-9] --> any number.\n",
    "\n",
    "g --> character g (or G).\n",
    "\n",
    "[0-9]+ --> any number several times.\n",
    "\n",
    "\n",
    "\"> Root-associated-Loci.txt\" sends the output to the file Root-associated-Loci.txt\n",
    "\n",
    "\"cat Root-associated-Loci.txt\" shows in the screen the recently created file. It allows us to check that the code has worked as intended."
   ]
  },
  {
   "cell_type": "markdown",
   "metadata": {},
   "source": [
    "## Problem 8"
   ]
  },
  {
   "cell_type": "code",
   "execution_count": null,
   "metadata": {},
   "outputs": [],
   "source": [
    "grep -P -ia '^.+\\t.+\\t.+?root[[:punct:]]?\\s' Locus_Germplasm_Phenotype_20130122.txt | grep -E -ioa '[0-9]+$' > Root-associated-Publications.txt\n",
    "cat Root-associated-Publications.txt"
   ]
  },
  {
   "cell_type": "markdown",
   "metadata": {},
   "source": [
    "The code before the pipe was explained in Problem 6.\n",
    "\n",
    "The second half of the code uses a grep to search for the PubMed ID.\n",
    "\n",
    "\"-E\" allows the use of extended regular expressions.\n",
    "\n",
    "\"-ioa\" means insensitive to case, print only the match and treat any binary file as a text file.\n",
    "\n",
    "'[0-9]+$' looks for several numbers at the end of the line (the PubMed ID). \n",
    "\n",
    "\"> Root-associated-Loci.txt\" sends the output to the file Root-associated-Loci.txt.\n",
    "\n",
    "\"cat Root-associated-Publications.txt\" shows in the screen the recently created file. It allows us to check that the code has worked as intended.\n"
   ]
  },
  {
   "cell_type": "markdown",
   "metadata": {},
   "source": [
    "## Problem 9"
   ]
  },
  {
   "cell_type": "code",
   "execution_count": null,
   "metadata": {},
   "outputs": [],
   "source": [
    "grep -E -ioa '^at1' Root-associated-Loci.txt | wc -l"
   ]
  },
  {
   "cell_type": "code",
   "execution_count": null,
   "metadata": {},
   "outputs": [],
   "source": [
    "grep -E -ioa '^at2' Root-associated-Loci.txt | wc -l"
   ]
  },
  {
   "cell_type": "code",
   "execution_count": null,
   "metadata": {},
   "outputs": [],
   "source": [
    "grep -E -ioa '^at3' Root-associated-Loci.txt | wc -l"
   ]
  },
  {
   "cell_type": "code",
   "execution_count": null,
   "metadata": {},
   "outputs": [],
   "source": [
    "grep -E -ioa '^at4' Root-associated-Loci.txt | wc -l"
   ]
  },
  {
   "cell_type": "code",
   "execution_count": null,
   "metadata": {},
   "outputs": [],
   "source": [
    "grep -E -ioa '^at5' Root-associated-Loci.txt | wc -l"
   ]
  },
  {
   "cell_type": "markdown",
   "metadata": {},
   "source": [
    "The grep command is used for the file Root-associated-Loci.txt (containing the AGI Locus Code). In this code, the third character is a number (the chromosome number). That way, '^at1' will find the entries corresponding to loci inside the chromosome 1, '^at2' finds loci inside the chromosome 2 and so on.\n",
    "\n",
    "The output of this grep is used as the input of wc -l (counts the number of lines). Its output is the number of root-related genes found in the chromosome. If it is greater than 0, there are genes associated with roots in the chromosome.\n",
    "\n",
    "The hypothesis that genes associated with roots should be found on all chromosomes is true for this dataset as all the numbers obtained are greater than 0."
   ]
  }
 ],
 "metadata": {
  "kernelspec": {
   "display_name": "Bash",
   "language": "bash",
   "name": "bash"
  },
  "language_info": {
   "codemirror_mode": "shell",
   "file_extension": ".sh",
   "mimetype": "text/x-sh",
   "name": "bash"
  }
 },
 "nbformat": 4,
 "nbformat_minor": 2
}
